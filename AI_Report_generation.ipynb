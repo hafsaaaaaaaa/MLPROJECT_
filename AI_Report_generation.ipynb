{
  "nbformat": 4,
  "nbformat_minor": 0,
  "metadata": {
    "colab": {
      "provenance": [],
      "include_colab_link": true
    },
    "kernelspec": {
      "name": "python3",
      "display_name": "Python 3"
    },
    "language_info": {
      "name": "python"
    }
  },
  "cells": [
    {
      "cell_type": "markdown",
      "metadata": {
        "id": "view-in-github",
        "colab_type": "text"
      },
      "source": [
        "<a href=\"https://colab.research.google.com/github/hafsaaaaaaaa/MLPROJECT_/blob/main/AI_Report_generation.ipynb\" target=\"_parent\"><img src=\"https://colab.research.google.com/assets/colab-badge.svg\" alt=\"Open In Colab\"/></a>"
      ]
    },
    {
      "cell_type": "code",
      "source": [
        "from google.colab import drive\n",
        "drive.mount('/content/drive')\n"
      ],
      "metadata": {
        "colab": {
          "base_uri": "https://localhost:8080/"
        },
        "id": "4AN68LgsMdJP",
        "outputId": "f6e5b9ad-f273-44b0-8bc0-19dc2906c800"
      },
      "execution_count": null,
      "outputs": [
        {
          "output_type": "stream",
          "name": "stdout",
          "text": [
            "Drive already mounted at /content/drive; to attempt to forcibly remount, call drive.mount(\"/content/drive\", force_remount=True).\n"
          ]
        }
      ]
    },
    {
      "cell_type": "code",
      "source": [
        "!kaggle datasets download -d paultimothymooney/chest-xray-pneumonia"
      ],
      "metadata": {
        "colab": {
          "base_uri": "https://localhost:8080/"
        },
        "id": "2ZIRhYF3OBF0",
        "outputId": "f622ac3c-2b1f-44a6-ee96-4542db01b26c"
      },
      "execution_count": null,
      "outputs": [
        {
          "output_type": "stream",
          "name": "stdout",
          "text": [
            "Dataset URL: https://www.kaggle.com/datasets/paultimothymooney/chest-xray-pneumonia\n",
            "License(s): other\n",
            "Downloading chest-xray-pneumonia.zip to /content\n",
            "100% 2.29G/2.29G [01:18<00:00, 32.4MB/s]\n",
            "100% 2.29G/2.29G [01:18<00:00, 31.2MB/s]\n"
          ]
        }
      ]
    },
    {
      "cell_type": "code",
      "source": [
        "!unzip -q \"/content/chest-xray-pneumonia.zip\"\n"
      ],
      "metadata": {
        "id": "WLMN9vnlOQdl"
      },
      "execution_count": null,
      "outputs": []
    },
    {
      "cell_type": "code",
      "source": [
        "!apt-get install texlive-latex-recommended texlive-fonts-recommended texlive-latex-extra > /dev/null 2>&1\n"
      ],
      "metadata": {
        "id": "7mPZln-9TG1g"
      },
      "execution_count": null,
      "outputs": []
    },
    {
      "cell_type": "code",
      "source": [
        "import tensorflow as tf\n",
        "from tensorflow.keras.preprocessing import image\n",
        "import numpy as np\n",
        "import requests\n",
        "import json\n",
        "import os\n",
        "from datetime import datetime\n",
        "import subprocess\n",
        "\n",
        "# Suppress TensorFlow warnings\n",
        "tf.get_logger().setLevel('ERROR')\n",
        "\n",
        "# Configuration\n",
        "GROQ_API_KEY = \"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\"\n",
        "MODEL_PATH = \"/content/drive/MyDrive/hafsa-model.h5\"\n",
        "LATEX_TEMPLATE = \"\"\"\\\\documentclass{{article}}\n",
        "\\\\usepackage[utf8]{{inputenc}}\n",
        "\\\\title{{Medical Report}}\n",
        "\\\\date{{{date}}}\n",
        "\n",
        "\\\\begin{{document}}\n",
        "\\\\maketitle\n",
        "\n",
        "\\\\section{{Diagnosis Results}}\n",
        "{diagnosis}\n",
        "\n",
        "\\\\section{{Radiology Findings}}\n",
        "{findings}\n",
        "\n",
        "\\\\section{{Recommendations}}\n",
        "\\\\begin{{itemize}}\n",
        "{recommendations}\n",
        "\\\\end{{itemize}}\n",
        "\n",
        "\\\\section{{Prescription Guidance}}\n",
        "{treatment}\n",
        "\n",
        "\\\\end{{document}}\n",
        "\"\"\"\n",
        "\n",
        "def load_model():\n",
        "    \"\"\"Load the pre-trained pneumonia detection model\"\"\"\n",
        "    if not os.path.exists(MODEL_PATH):\n",
        "        raise FileNotFoundError(f\"Model not found at {MODEL_PATH}\")\n",
        "    return tf.keras.models.load_model(MODEL_PATH)\n",
        "\n",
        "def predict_image(model, image_path):\n",
        "    \"\"\"Make prediction on an image\"\"\"\n",
        "    img = image.load_img(image_path, target_size=(150, 150))\n",
        "    img_array = image.img_to_array(img)\n",
        "    img_array = np.expand_dims(img_array, axis=0) / 255.0\n",
        "    prediction = model.predict(img_array, verbose=0)[0][0]\n",
        "    return \"Pneumonia\" if prediction >= 0.5 else \"Normal\", float(prediction)\n",
        "\n",
        "def generate_ai_report(diagnosis, confidence):\n",
        "    \"\"\"Generate medical report using Groq API with detailed medical prompt\"\"\"\n",
        "    prompt = f\"\"\"Act as a senior radiologist. Generate a detailed medical report for a chest X-ray diagnosis in JSON format.\n",
        "\n",
        "Patient Diagnosis: {diagnosis} (Confidence Score: {confidence:.2f})\n",
        "\n",
        "Required JSON structure:\n",
        "{{\n",
        "    \"findings\": \"Detailed radiological observations including lung fields, opacities, and other notable features\",\n",
        "    \"clinical_interpretation\": \"Medical analysis of the findings in clinical context\",\n",
        "    \"recommendations\": [\n",
        "        \"Prioritized list of clinical recommendations\",\n",
        "        \"Imaging follow-up suggestions\",\n",
        "        \"Referral suggestions if needed\"\n",
        "    ],\n",
        "    \"medication\": {{\n",
        "        \"antibiotics\": [\"Drug name, dosage, and duration if bacterial pneumonia suspected\"],\n",
        "        \"antivirals\": [\"Options if viral etiology suspected\"],\n",
        "        \"symptomatic_relief\": [\"Fever reducers, cough suppressants\"]\n",
        "    }},\n",
        "    \"follow_up_plan\": {{\n",
        "        \"imaging\": \"Timing for repeat imaging if needed\",\n",
        "        \"clinical_review\": \"Recommended timeline for clinical follow-up\",\n",
        "        \"warning_signs\": \"Red flags requiring urgent attention\"\n",
        "    }},\n",
        "    \"patient_advice\": \"Lifestyle recommendations and home care instructions\"\n",
        "}}\n",
        "\n",
        "Example for Pneumonia diagnosis:\n",
        "{{\n",
        "    \"findings\": \"Consolidation with air bronchograms in the right lower lobe, associated pleural effusion...\",\n",
        "    \"clinical_interpretation\": \"These findings are consistent with community-acquired pneumonia...\",\n",
        "    \"recommendations\": [\n",
        "        \"Immediate initiation of empirical antibiotic therapy\",\n",
        "        \"Chest CT scan if no improvement in 48 hours\",\n",
        "        \"Pulmonology referral for recurrent cases\"\n",
        "    ],\n",
        "    \"medication\": {{\n",
        "        \"antibiotics\": [\"Amoxicillin-clavulanate 875/125 mg every 12 hours for 7 days\"],\n",
        "        \"antivirals\": [\"Oseltamivir 75 mg twice daily if influenza suspected\"],\n",
        "        \"symptomatic_relief\": [\"Paracetamol 1g every 6 hours for fever\"]\n",
        "    }},\n",
        "    \"follow_up_plan\": {{\n",
        "        \"imaging\": \"Repeat X-ray in 4-6 weeks if unresolved\",\n",
        "        \"clinical_review\": \"48-hour follow-up for treatment response\",\n",
        "        \"warning_signs\": \"Dyspnea, hemoptysis, or persistent fever >39°C\"\n",
        "    }},\n",
        "    \"patient_advice\": \"Adequate hydration, rest, and monitor oxygen saturation\"\n",
        "}}\"\"\"\n",
        "\n",
        "    headers = {\n",
        "        \"Authorization\": f\"Bearer {GROQ_API_KEY}\",\n",
        "        \"Content-Type\": \"application/json\"\n",
        "    }\n",
        "\n",
        "    payload = {\n",
        "        \"model\": \"mixtral-8x7b-32768\",\n",
        "        \"messages\": [{\n",
        "            \"role\": \"system\",\n",
        "            \"content\": \"You are a medical expert specializing in radiology and pulmonology. Provide structured, clinically valid recommendations.\"\n",
        "        },{\n",
        "            \"role\": \"user\",\n",
        "            \"content\": prompt\n",
        "        }],\n",
        "        \"temperature\": 0.3,\n",
        "        \"response_format\": {\"type\": \"json_object\"},\n",
        "        \"max_tokens\": 1500\n",
        "    }\n",
        "\n",
        "    try:\n",
        "        response = requests.post(\n",
        "            \"https://api.groq.com/openai/v1/chat/completions\",\n",
        "            headers=headers,\n",
        "            json=payload,\n",
        "            timeout=30\n",
        "        )\n",
        "        response.raise_for_status()\n",
        "\n",
        "        # Extract and clean JSON response\n",
        "        content_str = response.json()['choices'][0]['message']['content']\n",
        "        content_str = content_str[content_str.find('{'):content_str.rfind('}')+1]\n",
        "\n",
        "        return json.loads(content_str)\n",
        "\n",
        "    except Exception as e:\n",
        "        print(f\"API Error: {str(e)}\")\n",
        "        # Return safe default structure\n",
        "        return {\n",
        "            \"findings\": \"Radiological assessment unavailable\",\n",
        "            \"clinical_interpretation\": \"Clinical correlation recommended\",\n",
        "            \"recommendations\": [\"Urgent clinical review required\"],\n",
        "            \"medication\": {\"antibiotics\": [], \"antivirals\": [], \"symptomatic_relief\": []},\n",
        "            \"follow_up_plan\": {\n",
        "                \"imaging\": \"Repeat X-ray as clinically indicated\",\n",
        "                \"clinical_review\": \"Within 24 hours\",\n",
        "                \"warning_signs\": \"Seek emergency care for breathing difficulties\"\n",
        "            },\n",
        "            \"patient_advice\": \"Follow up with your primary care physician immediately\"\n",
        "        }\n",
        "\n",
        "def create_pdf_report(data, output_dir=\"reports\"):\n",
        "    \"\"\"Generate PDF using LaTeX template\"\"\"\n",
        "    os.makedirs(output_dir, exist_ok=True)\n",
        "    timestamp = datetime.now().strftime(\"%Y%m%d_%H%M%S\")\n",
        "    filename = f\"medical_report_{timestamp}\"\n",
        "\n",
        "    # Format LaTeX content\n",
        "    latex_content = LATEX_TEMPLATE.format(\n",
        "        date=datetime.now().strftime(\"%Y-%m-%d\"),\n",
        "        diagnosis=f\"Condition: {data['diagnosis']} (Confidence: {data['confidence']:.2%})\",\n",
        "        findings=data.get('findings', 'No findings available'),\n",
        "        recommendations=\"\\n\".join([f\"\\\\item {item}\" for item in data.get('recommendations', [])]),\n",
        "        treatment=data.get('treatment', 'No specific treatment recommended')\n",
        "    )\n",
        "\n",
        "    # Write LaTeX file\n",
        "    with open(f\"{filename}.tex\", \"w\") as f:\n",
        "        f.write(latex_content)\n",
        "\n",
        "    # Compile to PDF using Colab's LaTeX installation\n",
        "    try:\n",
        "        subprocess.run(\n",
        "            [\"pdflatex\", \"-interaction=nonstopmode\", f\"{filename}.tex\"],\n",
        "            check=True,\n",
        "            stdout=subprocess.DEVNULL,\n",
        "            stderr=subprocess.DEVNULL\n",
        "        )\n",
        "    except Exception as e:\n",
        "        print(f\"PDF generation warning: {str(e)}\")\n",
        "\n",
        "    # Move PDF to reports directory and clean up\n",
        "    os.rename(f\"{filename}.pdf\", f\"{output_dir}/{filename}.pdf\")\n",
        "    for ext in [\".tex\", \".aux\", \".log\"]:\n",
        "        if os.path.exists(f\"{filename}{ext}\"):\n",
        "            os.remove(f\"{filename}{ext}\")\n",
        "\n",
        "    return f\"{output_dir}/{filename}.pdf\"\n",
        "\n",
        "def main(image_path):\n",
        "    \"\"\"Main workflow\"\"\"\n",
        "    try:\n",
        "        # Load model and predict\n",
        "        model = load_model()\n",
        "        diagnosis, confidence = predict_image(model, image_path)\n",
        "\n",
        "        # Generate AI report\n",
        "        ai_data = generate_ai_report(diagnosis, confidence)\n",
        "        ai_data.update({\n",
        "            \"diagnosis\": diagnosis,\n",
        "            \"confidence\": confidence\n",
        "        })\n",
        "\n",
        "        # Create PDF\n",
        "        pdf_path = create_pdf_report(ai_data)\n",
        "        print(f\"Report generated at: {pdf_path}\")\n",
        "        return pdf_path\n",
        "\n",
        "    except Exception as e:\n",
        "        print(f\"Error: {str(e)}\")\n",
        "        return None\n",
        "\n",
        "if __name__ == \"__main__\":\n",
        "    # Example usage\n",
        "    image_path = \"/content/chest_xray/test/PNEUMONIA/person100_bacteria_477.jpeg\"\n",
        "    main(image_path)"
      ],
      "metadata": {
        "colab": {
          "base_uri": "https://localhost:8080/"
        },
        "id": "7pvbfYDiOvEI",
        "outputId": "37c15815-1335-487e-fded-8fa6030d84b8"
      },
      "execution_count": 1,
      "outputs": [
        {
          "output_type": "stream",
          "name": "stdout",
          "text": [
            "Error: Model not found at /content/drive/MyDrive/hafsa-model.h5\n"
          ]
        }
      ]
    },
    {
      "cell_type": "code",
      "source": [],
      "metadata": {
        "id": "y_J141EPRomj"
      },
      "execution_count": null,
      "outputs": []
    }
  ]
}