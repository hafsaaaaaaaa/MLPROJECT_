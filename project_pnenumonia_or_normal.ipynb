{
  "nbformat": 4,
  "nbformat_minor": 0,
  "metadata": {
    "colab": {
      "provenance": [],
      "gpuType": "T4",
      "authorship_tag": "ABX9TyPLO9OgUfyg3dPHNkr57CG7",
      "include_colab_link": true
    },
    "kernelspec": {
      "name": "python3",
      "display_name": "Python 3"
    },
    "language_info": {
      "name": "python"
    },
    "accelerator": "GPU"
  },
  "cells": [
    {
      "cell_type": "markdown",
      "metadata": {
        "id": "view-in-github",
        "colab_type": "text"
      },
      "source": [
        "<a href=\"https://colab.research.google.com/github/hafsaaaaaaaa/MLPROJECT_/blob/main/project_pnenumonia_or_normal.ipynb\" target=\"_parent\"><img src=\"https://colab.research.google.com/assets/colab-badge.svg\" alt=\"Open In Colab\"/></a>"
      ]
    },
    {
      "cell_type": "code",
      "execution_count": 1,
      "metadata": {
        "id": "iUDbYXi5gCgF"
      },
      "outputs": [],
      "source": [
        "!mkdir ~/.kaggle"
      ]
    },
    {
      "cell_type": "code",
      "source": [
        "!mv kaggle.json ~/.kaggle\n",
        "!chmod 600 ~/.kaggle/kaggle.json"
      ],
      "metadata": {
        "id": "0BlbrDxdgOyF"
      },
      "execution_count": 3,
      "outputs": []
    },
    {
      "cell_type": "code",
      "source": [
        "!kaggle datasets download -d paultimothymooney/chest-xray-pneumonia"
      ],
      "metadata": {
        "colab": {
          "base_uri": "https://localhost:8080/"
        },
        "id": "XGDexOr7gRNf",
        "outputId": "4b552f41-a102-4355-d426-23b8655ff421"
      },
      "execution_count": 4,
      "outputs": [
        {
          "output_type": "stream",
          "name": "stdout",
          "text": [
            "Downloading chest-xray-pneumonia.zip to /content\n",
            " 99% 2.27G/2.29G [00:11<00:00, 257MB/s]\n",
            "100% 2.29G/2.29G [00:11<00:00, 218MB/s]\n"
          ]
        }
      ]
    },
    {
      "cell_type": "code",
      "source": [
        "!unzip \"/content/chest-xray-pneumonia.zip\""
      ],
      "metadata": {
        "id": "z6Stv2UCgYnk"
      },
      "execution_count": null,
      "outputs": []
    },
    {
      "cell_type": "code",
      "source": [
        "import os\n",
        "import numpy as np\n",
        "import tensorflow as tf\n",
        "from tensorflow.keras.preprocessing.image import ImageDataGenerator\n",
        "\n",
        "# Define paths\n",
        "train_dir = \"/content/chest_xray/train\"\n",
        "validation_dir = \"/content/chest_xray/val\"\n",
        "test_dir = \"/content/chest_xray/test\"\n",
        "\n",
        "# Data augmentation and normalization for training\n",
        "train_datagen = ImageDataGenerator(\n",
        "    rescale=1./255,\n",
        "    rotation_range=20,\n",
        "    width_shift_range=0.2,\n",
        "    height_shift_range=0.2,\n",
        "    shear_range=0.2,\n",
        "    zoom_range=0.2,\n",
        "    horizontal_flip=True,\n",
        "    fill_mode='nearest')\n",
        "\n",
        "# Normalization for validation and testing\n",
        "validation_datagen = ImageDataGenerator(rescale=1./255)\n",
        "test_datagen = ImageDataGenerator(rescale=1./255)\n",
        "\n",
        "# Define batch size\n",
        "batch_size = 32\n",
        "\n",
        "# Flow training images in batches using train_datagen generator\n",
        "train_generator = train_datagen.flow_from_directory(\n",
        "    train_dir,\n",
        "    target_size=(150, 150),\n",
        "    batch_size=batch_size,\n",
        "    class_mode='binary')\n",
        "\n",
        "# Flow validation images in batches using validation_datagen generator\n",
        "validation_generator = validation_datagen.flow_from_directory(\n",
        "    validation_dir,\n",
        "    target_size=(150, 150),\n",
        "    batch_size=batch_size,\n",
        "    class_mode='binary')\n",
        "\n",
        "# Flow test images in batches using test_datagen generator\n",
        "test_generator = test_datagen.flow_from_directory(\n",
        "    test_dir,\n",
        "    target_size=(150, 150),\n",
        "    batch_size=batch_size,\n",
        "    class_mode='binary')\n",
        "\n",
        "# Display class labels\n",
        "print(\"Class labels:\", train_generator.class_indices)\n",
        "\n",
        "# Example of how to use these generators with a CNN model in TensorFlow/Keras\n",
        "# Define and compile your CNN model\n",
        "model = tf.keras.models.Sequential([\n",
        "    tf.keras.layers.Conv2D(32, (3, 3), activation='relu', input_shape=(150, 150, 3)),\n",
        "    tf.keras.layers.MaxPooling2D(2, 2),\n",
        "    tf.keras.layers.Conv2D(64, (3, 3), activation='relu'),\n",
        "    tf.keras.layers.MaxPooling2D(2, 2),\n",
        "    tf.keras.layers.Conv2D(128, (3, 3), activation='relu'),\n",
        "    tf.keras.layers.MaxPooling2D(2, 2),\n",
        "    tf.keras.layers.Flatten(),\n",
        "    tf.keras.layers.Dense(512, activation='relu'),\n",
        "    tf.keras.layers.Dense(1, activation='sigmoid')\n",
        "])\n",
        "\n",
        "model.compile(optimizer='adam',\n",
        "              loss='binary_crossentropy',\n",
        "              metrics=['accuracy'])\n",
        "# Calculate steps per epoch\n",
        "steps_per_epoch_train = train_generator.samples // batch_size\n",
        "steps_per_epoch_validation = validation_generator.samples // batch_size\n",
        "\n",
        "# Ensure at least one step per epoch\n",
        "if steps_per_epoch_train == 0:\n",
        "    steps_per_epoch_train = 1\n",
        "if steps_per_epoch_validation == 0:\n",
        "    steps_per_epoch_validation = 1\n",
        "\n",
        "# Train the model\n",
        "history = model.fit(\n",
        "    train_generator,\n",
        "    steps_per_epoch=steps_per_epoch_train,\n",
        "    epochs=10,\n",
        "    validation_data=validation_generator,\n",
        "    validation_steps=steps_per_epoch_validation)\n",
        "\n",
        "\n",
        "\n",
        "\n",
        "\n",
        "# Evaluate the model on the test set\n",
        "test_loss, test_acc = model.evaluate(test_generator, steps=test_generator.samples // batch_size)\n",
        "print(\"Test Accuracy:\", test_acc)\n"
      ],
      "metadata": {
        "colab": {
          "base_uri": "https://localhost:8080/"
        },
        "id": "rAMo0MiHg23v",
        "outputId": "6b32b047-4ab3-4e44-f076-93d1061d95ed"
      },
      "execution_count": 17,
      "outputs": [
        {
          "output_type": "stream",
          "name": "stdout",
          "text": [
            "Found 5216 images belonging to 2 classes.\n",
            "Found 16 images belonging to 2 classes.\n",
            "Found 624 images belonging to 2 classes.\n",
            "Class labels: {'NORMAL': 0, 'PNEUMONIA': 1}\n",
            "Epoch 1/10\n",
            "163/163 [==============================] - 72s 426ms/step - loss: 0.4731 - accuracy: 0.7830 - val_loss: 0.9542 - val_accuracy: 0.6250\n",
            "Epoch 2/10\n",
            "163/163 [==============================] - 69s 422ms/step - loss: 0.3197 - accuracy: 0.8570 - val_loss: 0.4982 - val_accuracy: 0.8125\n",
            "Epoch 3/10\n",
            "163/163 [==============================] - 69s 422ms/step - loss: 0.2806 - accuracy: 0.8808 - val_loss: 0.7871 - val_accuracy: 0.7500\n",
            "Epoch 4/10\n",
            "163/163 [==============================] - 68s 415ms/step - loss: 0.2439 - accuracy: 0.8924 - val_loss: 0.6111 - val_accuracy: 0.8125\n",
            "Epoch 5/10\n",
            "163/163 [==============================] - 69s 420ms/step - loss: 0.2269 - accuracy: 0.9074 - val_loss: 0.6463 - val_accuracy: 0.8125\n",
            "Epoch 6/10\n",
            "163/163 [==============================] - 68s 418ms/step - loss: 0.2166 - accuracy: 0.9105 - val_loss: 0.6685 - val_accuracy: 0.7500\n",
            "Epoch 7/10\n",
            "163/163 [==============================] - 68s 416ms/step - loss: 0.1957 - accuracy: 0.9222 - val_loss: 0.5742 - val_accuracy: 0.8125\n",
            "Epoch 8/10\n",
            "163/163 [==============================] - 71s 436ms/step - loss: 0.1939 - accuracy: 0.9199 - val_loss: 0.7978 - val_accuracy: 0.7500\n",
            "Epoch 9/10\n",
            "163/163 [==============================] - 67s 410ms/step - loss: 0.1707 - accuracy: 0.9300 - val_loss: 0.3215 - val_accuracy: 0.8750\n",
            "Epoch 10/10\n",
            "163/163 [==============================] - 67s 414ms/step - loss: 0.1792 - accuracy: 0.9271 - val_loss: 0.4435 - val_accuracy: 0.8750\n",
            "19/19 [==============================] - 5s 239ms/step - loss: 0.2606 - accuracy: 0.9260\n",
            "Test Accuracy: 0.9259868264198303\n"
          ]
        }
      ]
    },
    {
      "cell_type": "code",
      "source": [
        "# Check if the training directory contains images\n",
        "num_train_samples = sum(len(files) for _, _, files in os.walk(train_dir))\n",
        "print(\"Number of training samples:\", num_train_samples)\n",
        "\n",
        "# Check the value of train_generator.samples\n",
        "print(\"Number of training generator samples:\", train_generator.samples)\n"
      ],
      "metadata": {
        "colab": {
          "base_uri": "https://localhost:8080/"
        },
        "id": "JS8Pl0OXiTA0",
        "outputId": "6adb4ae3-9200-4802-979b-77b545d845af"
      },
      "execution_count": 16,
      "outputs": [
        {
          "output_type": "stream",
          "name": "stdout",
          "text": [
            "Number of training samples: 5216\n",
            "Number of training generator samples: 5216\n"
          ]
        }
      ]
    },
    {
      "cell_type": "code",
      "source": [
        "# Evaluate the model on the test set\n",
        "test_loss, test_acc = model.evaluate(test_generator, steps=test_generator.samples // batch_size)\n",
        "print(\"Test Loss:\", test_loss)\n",
        "print(\"Test Accuracy:\", test_acc)\n"
      ],
      "metadata": {
        "colab": {
          "base_uri": "https://localhost:8080/"
        },
        "id": "4B0-zEAOmCtG",
        "outputId": "f420168f-3e0d-4374-8e13-54a818088e8f"
      },
      "execution_count": 18,
      "outputs": [
        {
          "output_type": "stream",
          "name": "stdout",
          "text": [
            "19/19 [==============================] - 4s 211ms/step - loss: 0.2636 - accuracy: 0.9243\n",
            "Test Loss: 0.2636030316352844\n",
            "Test Accuracy: 0.9243420958518982\n"
          ]
        }
      ]
    },
    {
      "cell_type": "markdown",
      "source": [],
      "metadata": {
        "id": "EILHiM74pgoi"
      }
    },
    {
      "cell_type": "code",
      "source": [
        "from tensorflow.keras.preprocessing import image\n",
        "import numpy as np\n",
        "\n",
        "# Path to the image you want to test\n",
        "image_path = \"/content/chest.jpg\"  # Replace this with the path to your image\n",
        "\n",
        "# Load and preprocess the image\n",
        "img = image.load_img(image_path, target_size=(150, 150))\n",
        "img_array = image.img_to_array(img)\n",
        "img_array = np.expand_dims(img_array, axis=0)\n",
        "img_array = img_array / 255.0  # Normalize the image\n",
        "\n",
        "# Predict the class probabilities\n",
        "predictions = model.predict(img_array)\n",
        "\n",
        "# Print the predicted class probabilities\n",
        "print(\"Predictions:\", predictions)\n"
      ],
      "metadata": {
        "colab": {
          "base_uri": "https://localhost:8080/"
        },
        "id": "2lCtwDklpuX9",
        "outputId": "e234720d-3df7-4e86-9354-1fc87a0dbcb8"
      },
      "execution_count": 19,
      "outputs": [
        {
          "output_type": "stream",
          "name": "stdout",
          "text": [
            "1/1 [==============================] - 0s 316ms/step\n",
            "Predictions: [[0.91562295]]\n"
          ]
        }
      ]
    },
    {
      "cell_type": "code",
      "source": [
        "# Predict the class probabilities\n",
        "predictions = model.predict(img_array)\n",
        "\n",
        "# Interpret the predictions\n",
        "if predictions[0] < 0.5:\n",
        "    print(\"Predicted: Normal\")\n",
        "else:\n",
        "    print(\"Predicted: Pneumonia\")\n"
      ],
      "metadata": {
        "colab": {
          "base_uri": "https://localhost:8080/"
        },
        "id": "exXHZkyPqV4T",
        "outputId": "196ce87f-4026-4027-a3b4-49efa51170bb"
      },
      "execution_count": 20,
      "outputs": [
        {
          "output_type": "stream",
          "name": "stdout",
          "text": [
            "1/1 [==============================] - 0s 18ms/step\n",
            "Predicted: Pneumonia\n"
          ]
        }
      ]
    },
    {
      "cell_type": "code",
      "source": [
        "model.save(\"model.h5\")\n"
      ],
      "metadata": {
        "colab": {
          "base_uri": "https://localhost:8080/"
        },
        "id": "AmPErpDjqjHK",
        "outputId": "5df83532-2b50-469e-915c-870d7cb3e8c8"
      },
      "execution_count": 21,
      "outputs": [
        {
          "output_type": "stream",
          "name": "stderr",
          "text": [
            "/usr/local/lib/python3.10/dist-packages/keras/src/engine/training.py:3103: UserWarning: You are saving your model as an HDF5 file via `model.save()`. This file format is considered legacy. We recommend using instead the native Keras format, e.g. `model.save('my_model.keras')`.\n",
            "  saving_api.save_model(\n"
          ]
        }
      ]
    },
    {
      "cell_type": "code",
      "source": [
        "from tensorflow.keras.preprocessing import image\n",
        "import numpy as np\n",
        "\n",
        "# Path to the image you want to test\n",
        "image_path = \"/content/normal chest.jpg\"  # Replace this with the path to your image\n",
        "\n",
        "# Load and preprocess the image\n",
        "img = image.load_img(image_path, target_size=(150, 150))\n",
        "img_array = image.img_to_array(img)\n",
        "img_array = np.expand_dims(img_array, axis=0)\n",
        "img_array = img_array / 255.0  # Normalize the image\n",
        "\n",
        "# Predict the class probabilities\n",
        "predictions = model.predict(img_array)\n",
        "\n",
        "# Print the predicted class probabilities\n",
        "print(\"Predictions:\", predictions)\n"
      ],
      "metadata": {
        "colab": {
          "base_uri": "https://localhost:8080/"
        },
        "id": "ZYhfpDtjqneH",
        "outputId": "740eb40b-fc0a-4b9d-9962-77587e70d60f"
      },
      "execution_count": 22,
      "outputs": [
        {
          "output_type": "stream",
          "name": "stdout",
          "text": [
            "1/1 [==============================] - 0s 18ms/step\n",
            "Predictions: [[0.06389415]]\n"
          ]
        }
      ]
    },
    {
      "cell_type": "code",
      "source": [
        "# Predict the class probabilities\n",
        "predictions = model.predict(img_array)\n",
        "\n",
        "# Interpret the predictions\n",
        "if predictions[0] < 0.5:\n",
        "    print(\"Predicted: Normal\")\n",
        "else:\n",
        "    print(\"Predicted: Pneumonia\")\n"
      ],
      "metadata": {
        "colab": {
          "base_uri": "https://localhost:8080/"
        },
        "id": "pGU8ctNZrJKP",
        "outputId": "f6725b38-b039-4896-90a7-b8f3ce8ec3a8"
      },
      "execution_count": 23,
      "outputs": [
        {
          "output_type": "stream",
          "name": "stdout",
          "text": [
            "1/1 [==============================] - 0s 18ms/step\n",
            "Predicted: Normal\n"
          ]
        }
      ]
    },
    {
      "cell_type": "code",
      "source": [],
      "metadata": {
        "id": "pnzp1dvwrNCX"
      },
      "execution_count": null,
      "outputs": []
    }
  ]
}